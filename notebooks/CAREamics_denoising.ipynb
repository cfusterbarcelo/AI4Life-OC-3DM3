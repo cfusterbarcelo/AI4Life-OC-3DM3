{
 "cells": [
  {
   "cell_type": "code",
   "execution_count": 1,
   "id": "8e183db3",
   "metadata": {},
   "outputs": [],
   "source": [
    "import numpy as np\n",
    "from careamics import CAREamist\n",
    "from careamics.config import create_care_configuration"
   ]
  },
  {
   "cell_type": "code",
   "execution_count": 6,
   "id": "d14d47ad",
   "metadata": {},
   "outputs": [
    {
     "name": "stderr",
     "output_type": "stream",
     "text": [
      "No working directory provided. Using current working directory: d:\\GitHub\\AI4Life-OC-3DM3\\notebooks.\n",
      "GPU available: True (cuda), used: True\n",
      "TPU available: False, using: 0 TPU cores\n",
      "HPU available: False, using: 0 HPUs\n"
     ]
    }
   ],
   "source": [
    "config = create_care_configuration(\n",
    "    experiment_name=\"care_3D\",\n",
    "    data_type=\"tiff\",\n",
    "    axes=\"TYX\",\n",
    "    patch_size=[64, 64],\n",
    "    batch_size=1,\n",
    "    num_epochs=1,  \n",
    "    #work_dir=\"D:/Results/Spheroids/n2v\"\n",
    ")\n",
    "\n",
    "# instantiate a careamist\n",
    "careamist = CAREamist(config)"
   ]
  },
  {
   "cell_type": "code",
   "execution_count": null,
   "id": "ff36af4f",
   "metadata": {},
   "outputs": [],
   "source": []
  }
 ],
 "metadata": {
  "kernelspec": {
   "display_name": "Python 3",
   "language": "python",
   "name": "python3"
  },
  "language_info": {
   "codemirror_mode": {
    "name": "ipython",
    "version": 3
   },
   "file_extension": ".py",
   "mimetype": "text/x-python",
   "name": "python",
   "nbconvert_exporter": "python",
   "pygments_lexer": "ipython3",
   "version": "3.10.16"
  }
 },
 "nbformat": 4,
 "nbformat_minor": 5
}
